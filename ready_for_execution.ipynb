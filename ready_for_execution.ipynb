{
  "nbformat": 4,
  "nbformat_minor": 0,
  "metadata": {
    "colab": {
      "name": "ready_for_execution.ipynb",
      "provenance": [],
      "collapsed_sections": []
    },
    "kernelspec": {
      "name": "python3",
      "display_name": "Python 3"
    }
  },
  "cells": [
    {
      "cell_type": "code",
      "metadata": {
        "id": "oMsbivj0m4yT",
        "colab_type": "code",
        "colab": {}
      },
      "source": [
        "#clone the repository\n",
        "!git clone https://github.com/mohak1/bot-that-talks-like-you.git"
      ],
      "execution_count": null,
      "outputs": []
    },
    {
      "cell_type": "code",
      "metadata": {
        "id": "sbM_qJT32qBh",
        "colab_type": "code",
        "colab": {}
      },
      "source": [
        "#upload the .txt files of your chat backups in your google drive and update the command \n",
        "\n",
        "#copying the text files from drive to whatsapp_chats folder in the colab notebook\n",
        "!cp -a /content/drive/My\\ Drive/chatbot/chats/. /content/bot-that-talks-like-you/whatsapp_chats/"
      ],
      "execution_count": null,
      "outputs": []
    },
    {
      "cell_type": "code",
      "metadata": {
        "id": "Id2uNaVm26E9",
        "colab_type": "code",
        "colab": {}
      },
      "source": [
        "#set the torch version to 1.0.0 to avoid warnings\n",
        "!pip install torch==1.0.0"
      ],
      "execution_count": null,
      "outputs": []
    },
    {
      "cell_type": "code",
      "metadata": {
        "id": "GpvWXpL9nkKU",
        "colab_type": "code",
        "colab": {}
      },
      "source": [
        "#process the files and start the training\n",
        "!python /content/bot-that-talks-like-you/code_files/runner_code.py"
      ],
      "execution_count": null,
      "outputs": []
    },
    {
      "cell_type": "code",
      "metadata": {
        "id": "quazhW-G2gps",
        "colab_type": "code",
        "colab": {}
      },
      "source": [
        "#start chatting with the bot\n",
        "!python /content/bot-that-talks-like-you/code_files/talk.py"
      ],
      "execution_count": null,
      "outputs": []
    }
  ]
}